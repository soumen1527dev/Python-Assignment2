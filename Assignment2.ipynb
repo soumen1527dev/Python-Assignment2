{
 "cells": [
  {
   "cell_type": "code",
   "execution_count": 1,
   "id": "d31d9885-24d9-4a2b-a720-49831984e5a5",
   "metadata": {},
   "outputs": [],
   "source": [
    "# Q1. How do you comment code in Python? What are the different types of comments?\n",
    "#  Ans :\n",
    "\n",
    "# There are two types of comments:\n",
    "#  (i) Single-line comment\n",
    "#  (ii) Multiline-line comment"
   ]
  },
  {
   "cell_type": "code",
   "execution_count": 3,
   "id": "a5812990-5ae9-477b-8c15-1d3d8d4178d9",
   "metadata": {},
   "outputs": [],
   "source": [
    "# This is single-line comment"
   ]
  },
  {
   "cell_type": "code",
   "execution_count": 4,
   "id": "ac2e354a-86a4-4887-b0ad-3b98838c6251",
   "metadata": {},
   "outputs": [
    {
     "data": {
      "text/plain": [
       "'This is Multi-line comment'"
      ]
     },
     "execution_count": 4,
     "metadata": {},
     "output_type": "execute_result"
    }
   ],
   "source": [
    "\"\"\"This is Multi-line comment\"\"\""
   ]
  },
  {
   "cell_type": "code",
   "execution_count": 5,
   "id": "0b9053bf-cbc3-4e03-9103-aa94f85f8b88",
   "metadata": {},
   "outputs": [],
   "source": [
    "# Q2. What are variables in Python? How do you declare and assign values to variables?\n",
    "# Ans :\n",
    "\n",
    "#In Python, variables are used to store and manage data values. Example -\n",
    "a = 10\n",
    "b = \"pwskills\"\n",
    "c = 56.36\n",
    "d = True\n",
    "e = 5 + 6j"
   ]
  },
  {
   "cell_type": "code",
   "execution_count": 6,
   "id": "7a21d8c9-e238-478d-ad2f-6ed7012bc846",
   "metadata": {},
   "outputs": [
    {
     "name": "stdout",
     "output_type": "stream",
     "text": [
      "10.0\n",
      "56\n"
     ]
    }
   ],
   "source": [
    "# Q3. How do you convert one data type to another in Python?\n",
    "# Ans :\n",
    "\n",
    "number = 10\n",
    "number = float(number)\n",
    "print (number)\n",
    "\n",
    "number2 = 56.85\n",
    "number2 = int (number2)\n",
    "print (number2)"
   ]
  },
  {
   "cell_type": "code",
   "execution_count": 7,
   "id": "1be2b926-2767-41ed-91d6-80a5dc532660",
   "metadata": {},
   "outputs": [],
   "source": [
    "# Q4. How do you write and execute a Python script from the command line?\n",
    "# Ans :\n",
    "\n",
    "# To write and execute a python script like this: python first_script.py Hello World!"
   ]
  },
  {
   "cell_type": "code",
   "execution_count": 8,
   "id": "1c958504-5276-40a9-a2fd-a36c1f4837fb",
   "metadata": {},
   "outputs": [
    {
     "data": {
      "text/plain": [
       "[2, 3]"
      ]
     },
     "execution_count": 8,
     "metadata": {},
     "output_type": "execute_result"
    }
   ],
   "source": [
    "# Q5. Given a list my_list = [1, 2, 3, 4, 5], write the code to slice the list and obtain the sub-list [2, 3].\n",
    "# Ans :\n",
    "\n",
    "my_list = [1, 2, 3, 4, 5]\n",
    "my_list [1 : 3]"
   ]
  },
  {
   "cell_type": "code",
   "execution_count": 10,
   "id": "0ea08333-6f9a-49a9-af99-596e94b93d74",
   "metadata": {},
   "outputs": [
    {
     "name": "stdout",
     "output_type": "stream",
     "text": [
      "(5+8j)\n"
     ]
    }
   ],
   "source": [
    "# Q6. What is a complex number in mathematics, and how is it represented in Python?\n",
    "# Ans :\n",
    "\n",
    "# Complex number is a combination of a real and a imaginary part.It is written in the\n",
    "# form of \"a + bi\", where \"a\" is the real part, \"b\" is the imaginary part, and \"i\" represents\n",
    "# the imaginary unit.\n",
    "\n",
    "complex_number = 5 + 8j\n",
    "print (complex_number)"
   ]
  },
  {
   "cell_type": "code",
   "execution_count": 11,
   "id": "2aba73e8-6002-47da-9478-72141144c090",
   "metadata": {},
   "outputs": [
    {
     "name": "stdout",
     "output_type": "stream",
     "text": [
      "25\n"
     ]
    }
   ],
   "source": [
    "# Q7.What is the correct way to declare a variable named age and assign the value 25 to it?\n",
    "# Ans :\n",
    "\n",
    "age = 25\n",
    "print (age)"
   ]
  },
  {
   "cell_type": "code",
   "execution_count": 12,
   "id": "ec2c78cd-5357-4c3d-bca3-0a71c2a0c2c2",
   "metadata": {},
   "outputs": [
    {
     "data": {
      "text/plain": [
       "float"
      ]
     },
     "execution_count": 12,
     "metadata": {},
     "output_type": "execute_result"
    }
   ],
   "source": [
    "# Q8. Declare a variable named price and assign the value 9.99 to it. What data type does this variable\n",
    "# belong to?\n",
    "# Ans :\n",
    "    \n",
    "price = 9.99\n",
    "type (price)"
   ]
  },
  {
   "cell_type": "code",
   "execution_count": 14,
   "id": "da94cc93-0fff-45e7-94e9-de5ce8c16aa8",
   "metadata": {},
   "outputs": [
    {
     "name": "stdout",
     "output_type": "stream",
     "text": [
      "Soumen Das\n"
     ]
    }
   ],
   "source": [
    "# Q9. Create a variable named name and assign your full name to it as a string. How would you print the\n",
    "# value of this variable?\n",
    "# Ans :\n",
    "\n",
    "name = \"Soumen Das\"\n",
    "print (name)   "
   ]
  },
  {
   "cell_type": "code",
   "execution_count": 16,
   "id": "d69e22ad-c6f9-4166-89f4-a6015b3574dd",
   "metadata": {},
   "outputs": [
    {
     "data": {
      "text/plain": [
       "'World!'"
      ]
     },
     "execution_count": 16,
     "metadata": {},
     "output_type": "execute_result"
    }
   ],
   "source": [
    "# Q10. Given the string \"Hello, World!\", extract the substring \"World\".\n",
    "# Ans :\n",
    "\n",
    "string = \"Hello, World!\"\n",
    "string [7 : 13]"
   ]
  },
  {
   "cell_type": "code",
   "execution_count": 19,
   "id": "30fd3f1c-4d4c-46b9-befc-912988936363",
   "metadata": {},
   "outputs": [],
   "source": [
    "# Q11. Create a variable named \"is_student\" and assign it a boolean value indicating whether you are\n",
    "#currently a student or not.\n",
    "# Ans :\n",
    "\n",
    "is_student = True  #I am a student"
   ]
  },
  {
   "cell_type": "code",
   "execution_count": null,
   "id": "9fcbe855-eb3e-4433-870e-c962d87c3e9c",
   "metadata": {},
   "outputs": [],
   "source": []
  }
 ],
 "metadata": {
  "kernelspec": {
   "display_name": "Python 3 (ipykernel)",
   "language": "python",
   "name": "python3"
  },
  "language_info": {
   "codemirror_mode": {
    "name": "ipython",
    "version": 3
   },
   "file_extension": ".py",
   "mimetype": "text/x-python",
   "name": "python",
   "nbconvert_exporter": "python",
   "pygments_lexer": "ipython3",
   "version": "3.10.8"
  }
 },
 "nbformat": 4,
 "nbformat_minor": 5
}
